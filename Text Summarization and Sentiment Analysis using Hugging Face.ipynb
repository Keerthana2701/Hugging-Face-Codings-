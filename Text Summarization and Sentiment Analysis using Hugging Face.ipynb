{
 "cells": [
  {
   "cell_type": "markdown",
   "id": "b7e7c819",
   "metadata": {},
   "source": [
    "# Text Summarization using Hugging Face \n",
    "\n",
    "Using transformers library, we can access Hugging face's modules and features.\n",
    "### Using Pipeline \n",
    "### Using models"
   ]
  },
  {
   "cell_type": "code",
   "execution_count": 1,
   "id": "fb5efad6",
   "metadata": {},
   "outputs": [
    {
     "name": "stdout",
     "output_type": "stream",
     "text": [
      "Collecting transformers\n",
      "  Downloading transformers-4.46.3-py3-none-any.whl (10.0 MB)\n",
      "Collecting huggingface-hub<1.0,>=0.23.2\n",
      "  Downloading huggingface_hub-0.30.2-py3-none-any.whl (481 kB)\n",
      "Requirement already satisfied: pyyaml>=5.1 in c:\\users\\kpuni\\anaconda3\\lib\\site-packages (from transformers) (5.4.1)\n",
      "Requirement already satisfied: numpy>=1.17 in c:\\users\\kpuni\\anaconda3\\lib\\site-packages (from transformers) (1.20.1)\n",
      "Requirement already satisfied: packaging>=20.0 in c:\\users\\kpuni\\anaconda3\\lib\\site-packages (from transformers) (23.2)Note: you may need to restart the kernel to use updated packages.\n"
     ]
    },
    {
     "name": "stderr",
     "output_type": "stream",
     "text": [
      "ERROR: pip's dependency resolver does not currently take into account all the packages that are installed. This behaviour is the source of the following dependency conflicts.\n",
      "s3fs 2023.1.0 requires fsspec==2023.1.0, but you have fsspec 2025.3.0 which is incompatible.\n"
     ]
    },
    {
     "name": "stdout",
     "output_type": "stream",
     "text": [
      "\n",
      "Requirement already satisfied: requests in c:\\users\\kpuni\\anaconda3\\lib\\site-packages (from transformers) (2.31.0)\n",
      "Collecting tokenizers<0.21,>=0.20\n",
      "  Downloading tokenizers-0.20.3-cp38-none-win_amd64.whl (2.4 MB)\n",
      "Requirement already satisfied: tqdm>=4.27 in c:\\users\\kpuni\\anaconda3\\lib\\site-packages (from transformers) (4.59.0)\n",
      "Collecting safetensors>=0.4.1\n",
      "  Downloading safetensors-0.5.3-cp38-abi3-win_amd64.whl (308 kB)\n",
      "Requirement already satisfied: filelock in c:\\users\\kpuni\\anaconda3\\lib\\site-packages (from transformers) (3.0.12)\n",
      "Requirement already satisfied: regex!=2019.12.17 in c:\\users\\kpuni\\anaconda3\\lib\\site-packages (from transformers) (2023.12.25)\n",
      "Collecting fsspec>=2023.5.0\n",
      "  Downloading fsspec-2025.3.0-py3-none-any.whl (193 kB)\n",
      "Requirement already satisfied: typing-extensions>=3.7.4.3 in c:\\users\\kpuni\\anaconda3\\lib\\site-packages (from huggingface-hub<1.0,>=0.23.2->transformers) (4.10.0)\n",
      "Requirement already satisfied: urllib3<3,>=1.21.1 in c:\\users\\kpuni\\anaconda3\\lib\\site-packages (from requests->transformers) (1.26.4)\n",
      "Requirement already satisfied: certifi>=2017.4.17 in c:\\users\\kpuni\\anaconda3\\lib\\site-packages (from requests->transformers) (2020.12.5)\n",
      "Requirement already satisfied: idna<4,>=2.5 in c:\\users\\kpuni\\anaconda3\\lib\\site-packages (from requests->transformers) (2.10)\n",
      "Requirement already satisfied: charset-normalizer<4,>=2 in c:\\users\\kpuni\\anaconda3\\lib\\site-packages (from requests->transformers) (2.1.1)\n",
      "Installing collected packages: fsspec, huggingface-hub, tokenizers, safetensors, transformers\n",
      "  Attempting uninstall: fsspec\n",
      "    Found existing installation: fsspec 2023.1.0\n",
      "    Uninstalling fsspec-2023.1.0:\n",
      "      Successfully uninstalled fsspec-2023.1.0\n",
      "Successfully installed fsspec-2025.3.0 huggingface-hub-0.30.2 safetensors-0.5.3 tokenizers-0.20.3 transformers-4.46.3\n"
     ]
    }
   ],
   "source": [
    "pip install transformers\n"
   ]
  },
  {
   "cell_type": "code",
   "execution_count": 2,
   "id": "7a3a300b",
   "metadata": {},
   "outputs": [
    {
     "name": "stdout",
     "output_type": "stream",
     "text": [
      "Collecting torch\n",
      "  Downloading torch-2.4.1-cp38-cp38-win_amd64.whl (199.4 MB)\n",
      "Requirement already satisfied: sympy in c:\\users\\kpuni\\anaconda3\\lib\\site-packages (from torch) (1.8)\n",
      "Requirement already satisfied: filelock in c:\\users\\kpuni\\anaconda3\\lib\\site-packages (from torch) (3.0.12)\n",
      "Requirement already satisfied: jinja2 in c:\\users\\kpuni\\anaconda3\\lib\\site-packages (from torch) (2.11.3)\n",
      "Requirement already satisfied: fsspec in c:\\users\\kpuni\\anaconda3\\lib\\site-packages (from torch) (2025.3.0)\n",
      "Requirement already satisfied: networkx in c:\\users\\kpuni\\anaconda3\\lib\\site-packages (from torch) (2.5)\n",
      "Requirement already satisfied: typing-extensions>=4.8.0 in c:\\users\\kpuni\\anaconda3\\lib\\site-packages (from torch) (4.10.0)\n",
      "Requirement already satisfied: MarkupSafe>=0.23 in c:\\users\\kpuni\\anaconda3\\lib\\site-packages (from jinja2->torch) (1.1.1)\n",
      "Requirement already satisfied: decorator>=4.3.0 in c:\\users\\kpuni\\anaconda3\\lib\\site-packages (from networkx->torch) (5.0.6)\n",
      "Requirement already satisfied: mpmath>=0.19 in c:\\users\\kpuni\\anaconda3\\lib\\site-packages (from sympy->torch) (1.2.1)\n",
      "Installing collected packages: torch\n",
      "Successfully installed torch-2.4.1\n",
      "Note: you may need to restart the kernel to use updated packages.\n"
     ]
    }
   ],
   "source": [
    "pip install torch"
   ]
  },
  {
   "cell_type": "markdown",
   "id": "b7147d7c",
   "metadata": {},
   "source": [
    "## Using Pipeline"
   ]
  },
  {
   "cell_type": "markdown",
   "id": "335ee4cd",
   "metadata": {},
   "source": [
    "Pipeine function can be used mostly for text related task.\n",
    "For text classification, use \"text-classification\", and for text generation, use \"text-generation\""
   ]
  },
  {
   "cell_type": "code",
   "execution_count": 4,
   "id": "5172934c",
   "metadata": {},
   "outputs": [
    {
     "name": "stderr",
     "output_type": "stream",
     "text": [
      "No model was supplied, defaulted to sshleifer/distilbart-cnn-12-6 and revision a4f8f3e (https://huggingface.co/sshleifer/distilbart-cnn-12-6).\n",
      "Using a pipeline without specifying a model name and revision in production is not recommended.\n"
     ]
    },
    {
     "name": "stdout",
     "output_type": "stream",
     "text": [
      " Aishwarya Rai Bachchan won the Miss World 1994 pageant . She is an actress who is primarily known for her work in Hindi and Tamil films . In 2004, Time magazine named her one of the 100 most influential people in the world .\n"
     ]
    }
   ],
   "source": [
    "from transformers import pipeline\n",
    " \n",
    "# Load the summarization pipeline\n",
    "summarizer = pipeline(\"summarization\")\n",
    " \n",
    "# Input text to summarize\n",
    "text = \"\"\"\n",
    "Aishwarya Rai Bachchan (pronounced [ɛːʃʋəɾjᵊ ɾɑːj ˈbətːʃən]; née Rai; born 1 November 1973) is an Indian actress who is primarily known for her work in Hindi and Tamil films. Rai won the Miss World 1994 pageant and later established herself as one of the most-popular and influential celebrities in India. She has received numerous accolades for her acting, including two Filmfare Awards. In 2004, Time magazine named her one of the 100 most influential people in the world. In 2009, the Government of India honoured her with the Padma Shri and in 2012, the Government of France awarded her with the Order of Arts and Letters. She has often been called \"the most beautiful woman in the world\" by segments of the media.\n",
    "\n",
    "While in college, Rai modelled and appeared in several television commercials, and entered the Miss India pageant, in which she was placed second. She was then crowned Miss World 1994, made her acting debut in Mani Ratnam's 1997 Tamil film Iruvar and had her Hindi film debut in Aur Pyaar Ho Gaya that year. Her first commercial success was the Tamil romantic drama Jeans (1998), which at the time was the most expensive Indian film. She achieved wider success and won two Filmfare Awards for Best Actress for her performances in Sanjay Leela Bhansali's romantic dramas Hum Dil De Chuke Sanam (1999) and Devdas (2002).\n",
    "\"\"\"\n",
    " \n",
    "# Generate a summary\n",
    "summary = summarizer(text, max_length=70, min_length=25, do_sample=False)\n",
    "print(summary[0]['summary_text'])"
   ]
  },
  {
   "cell_type": "markdown",
   "id": "126dbc2e",
   "metadata": {},
   "source": [
    "## Using Models and tokenizer"
   ]
  },
  {
   "cell_type": "code",
   "execution_count": 10,
   "id": "dda80071",
   "metadata": {},
   "outputs": [],
   "source": [
    "from transformers import AutoModelForSeq2SeqLM, AutoTokenizer"
   ]
  },
  {
   "cell_type": "code",
   "execution_count": 12,
   "id": "69a66a66",
   "metadata": {},
   "outputs": [
    {
     "name": "stdout",
     "output_type": "stream",
     "text": [
      "Aishwarya Rai Bachchan is an Indian actress who is primarily known for her work in Hindi and Tamil films. She won the Miss World 1994 pageant and later established herself as one of the most-popular and influential celebrities in India\n"
     ]
    }
   ],
   "source": [
    "# Load a pre-trained model and tokenizer\n",
    "model_name = \"facebook/bart-large-cnn\"  # Example model for summarization\n",
    "tokenizer = AutoTokenizer.from_pretrained(model_name)\n",
    "model = AutoModelForSeq2SeqLM.from_pretrained(model_name)\n",
    " \n",
    "# Input text to summarize\n",
    "text = \"\"\"\n",
    "Aishwarya Rai Bachchan (pronounced [ɛːʃʋəɾjᵊ ɾɑːj ˈbətːʃən]; née Rai; born 1 November 1973) is an Indian actress who is primarily known for her work in Hindi and Tamil films. Rai won the Miss World 1994 pageant and later established herself as one of the most-popular and influential celebrities in India. She has received numerous accolades for her acting, including two Filmfare Awards. In 2004, Time magazine named her one of the 100 most influential people in the world. In 2009, the Government of India honoured her with the Padma Shri and in 2012, the Government of France awarded her with the Order of Arts and Letters. She has often been called \"the most beautiful woman in the world\" by segments of the media.\n",
    "\n",
    "While in college, Rai modelled and appeared in several television commercials, and entered the Miss India pageant, in which she was placed second. She was then crowned Miss World 1994, made her acting debut in Mani Ratnam's 1997 Tamil film Iruvar and had her Hindi film debut in Aur Pyaar Ho Gaya that year. Her first commercial success was the Tamil romantic drama Jeans (1998), which at the time was the most expensive Indian film. She achieved wider success and won two Filmfare Awards for Best Actress for her performances in Sanjay Leela Bhansali's romantic dramas Hum Dil De Chuke Sanam (1999) and Devdas (2002).\n",
    "\"\"\"\n",
    " \n",
    "# Tokenize the input text\n",
    "inputs = tokenizer.encode(\"summarize: \" + text, return_tensors=\"pt\", max_length=512, truncation=True)\n",
    " \n",
    "# Generate the summary\n",
    "summary_ids = model.generate(inputs, max_length=50, min_length=25, length_penalty=2.0, num_beams=4, early_stopping=True)\n",
    "summary = tokenizer.decode(summary_ids[0], skip_special_tokens=True)\n",
    " \n",
    "print(summary)"
   ]
  },
  {
   "cell_type": "markdown",
   "id": "0994d7d4",
   "metadata": {},
   "source": [
    "# Sentiment Analysis using Hugging Face"
   ]
  },
  {
   "cell_type": "code",
   "execution_count": 13,
   "id": "a0cdb7c5",
   "metadata": {},
   "outputs": [],
   "source": [
    "from transformers import pipeline"
   ]
  },
  {
   "cell_type": "code",
   "execution_count": 14,
   "id": "f2d8e3cd",
   "metadata": {},
   "outputs": [
    {
     "name": "stderr",
     "output_type": "stream",
     "text": [
      "No model was supplied, defaulted to distilbert/distilbert-base-uncased-finetuned-sst-2-english and revision 714eb0f (https://huggingface.co/distilbert/distilbert-base-uncased-finetuned-sst-2-english).\n",
      "Using a pipeline without specifying a model name and revision in production is not recommended.\n"
     ]
    },
    {
     "data": {
      "application/vnd.jupyter.widget-view+json": {
       "model_id": "a74709ac7bdb4135af4c97b3620f74d2",
       "version_major": 2,
       "version_minor": 0
      },
      "text/plain": [
       "config.json:   0%|          | 0.00/629 [00:00<?, ?B/s]"
      ]
     },
     "metadata": {},
     "output_type": "display_data"
    },
    {
     "name": "stderr",
     "output_type": "stream",
     "text": [
      "C:\\Users\\kpuni\\Anaconda3\\lib\\site-packages\\huggingface_hub\\file_download.py:144: UserWarning: `huggingface_hub` cache-system uses symlinks by default to efficiently store duplicated files but your machine does not support them in C:\\Users\\kpuni\\.cache\\huggingface\\hub\\models--distilbert--distilbert-base-uncased-finetuned-sst-2-english. Caching files will still work but in a degraded version that might require more space on your disk. This warning can be disabled by setting the `HF_HUB_DISABLE_SYMLINKS_WARNING` environment variable. For more details, see https://huggingface.co/docs/huggingface_hub/how-to-cache#limitations.\n",
      "To support symlinks on Windows, you either need to activate Developer Mode or to run Python as an administrator. In order to activate developer mode, see this article: https://docs.microsoft.com/en-us/windows/apps/get-started/enable-your-device-for-development\n",
      "  warnings.warn(message)\n",
      "Xet Storage is enabled for this repo, but the 'hf_xet' package is not installed. Falling back to regular HTTP download. For better performance, install the package with: `pip install huggingface_hub[hf_xet]` or `pip install hf_xet`\n"
     ]
    },
    {
     "data": {
      "application/vnd.jupyter.widget-view+json": {
       "model_id": "c2185f54585b4b0ca334a15474d4260f",
       "version_major": 2,
       "version_minor": 0
      },
      "text/plain": [
       "model.safetensors:   0%|          | 0.00/268M [00:00<?, ?B/s]"
      ]
     },
     "metadata": {},
     "output_type": "display_data"
    },
    {
     "data": {
      "application/vnd.jupyter.widget-view+json": {
       "model_id": "51c270c7777f43aebfecdb045bb5335c",
       "version_major": 2,
       "version_minor": 0
      },
      "text/plain": [
       "tokenizer_config.json:   0%|          | 0.00/48.0 [00:00<?, ?B/s]"
      ]
     },
     "metadata": {},
     "output_type": "display_data"
    },
    {
     "data": {
      "application/vnd.jupyter.widget-view+json": {
       "model_id": "b314d61ffb1842deb89a034fd4637ae8",
       "version_major": 2,
       "version_minor": 0
      },
      "text/plain": [
       "vocab.txt:   0%|          | 0.00/232k [00:00<?, ?B/s]"
      ]
     },
     "metadata": {},
     "output_type": "display_data"
    }
   ],
   "source": [
    "sentiment_analyzer = pipeline(\"sentiment-analysis\")"
   ]
  },
  {
   "cell_type": "code",
   "execution_count": 15,
   "id": "f71040c0",
   "metadata": {
    "scrolled": true
   },
   "outputs": [
    {
     "data": {
      "application/vnd.jupyter.widget-view+json": {
       "model_id": "45d26d49a0a844459e543d9ad3871755",
       "version_major": 2,
       "version_minor": 0
      },
      "text/plain": [
       "config.json:   0%|          | 0.00/629 [00:00<?, ?B/s]"
      ]
     },
     "metadata": {},
     "output_type": "display_data"
    },
    {
     "name": "stderr",
     "output_type": "stream",
     "text": [
      "C:\\Users\\kpuni\\Anaconda3\\lib\\site-packages\\huggingface_hub\\file_download.py:144: UserWarning: `huggingface_hub` cache-system uses symlinks by default to efficiently store duplicated files but your machine does not support them in C:\\Users\\kpuni\\.cache\\huggingface\\hub\\models--distilbert-base-uncased-finetuned-sst-2-english. Caching files will still work but in a degraded version that might require more space on your disk. This warning can be disabled by setting the `HF_HUB_DISABLE_SYMLINKS_WARNING` environment variable. For more details, see https://huggingface.co/docs/huggingface_hub/how-to-cache#limitations.\n",
      "To support symlinks on Windows, you either need to activate Developer Mode or to run Python as an administrator. In order to activate developer mode, see this article: https://docs.microsoft.com/en-us/windows/apps/get-started/enable-your-device-for-development\n",
      "  warnings.warn(message)\n",
      "Xet Storage is enabled for this repo, but the 'hf_xet' package is not installed. Falling back to regular HTTP download. For better performance, install the package with: `pip install huggingface_hub[hf_xet]` or `pip install hf_xet`\n"
     ]
    },
    {
     "data": {
      "application/vnd.jupyter.widget-view+json": {
       "model_id": "bdd0b520e55b4bc4907dedd03553a7b5",
       "version_major": 2,
       "version_minor": 0
      },
      "text/plain": [
       "model.safetensors:   0%|          | 0.00/268M [00:00<?, ?B/s]"
      ]
     },
     "metadata": {},
     "output_type": "display_data"
    },
    {
     "data": {
      "application/vnd.jupyter.widget-view+json": {
       "model_id": "23a97bd6d63a4666bbe7e18fee4ae071",
       "version_major": 2,
       "version_minor": 0
      },
      "text/plain": [
       "tokenizer_config.json:   0%|          | 0.00/48.0 [00:00<?, ?B/s]"
      ]
     },
     "metadata": {},
     "output_type": "display_data"
    },
    {
     "data": {
      "application/vnd.jupyter.widget-view+json": {
       "model_id": "3ec705bf5a1b4ecda59346a3a9b75b6f",
       "version_major": 2,
       "version_minor": 0
      },
      "text/plain": [
       "vocab.txt:   0%|          | 0.00/232k [00:00<?, ?B/s]"
      ]
     },
     "metadata": {},
     "output_type": "display_data"
    }
   ],
   "source": [
    "sentiment_analyzer = pipeline(\"sentiment-analysis\", model=\"distilbert-base-uncased-finetuned-sst-2-english\")\n",
    " \n"
   ]
  },
  {
   "cell_type": "code",
   "execution_count": 16,
   "id": "9e2bc367",
   "metadata": {},
   "outputs": [
    {
     "name": "stdout",
     "output_type": "stream",
     "text": [
      "[{'label': 'POSITIVE', 'score': 0.9998131394386292}]\n"
     ]
    }
   ],
   "source": [
    "text = \"I love listening to music!\"\n",
    "result = sentiment_analyzer(text)\n",
    "print(result)\n",
    " "
   ]
  },
  {
   "cell_type": "code",
   "execution_count": 17,
   "id": "88a2bb7c",
   "metadata": {},
   "outputs": [
    {
     "name": "stdout",
     "output_type": "stream",
     "text": [
      "{'label': 'POSITIVE', 'score': 0.9998772144317627}\n",
      "{'label': 'NEGATIVE', 'score': 0.9997655749320984}\n"
     ]
    }
   ],
   "source": [
    "texts = [\n",
    "    \"listening to music is fun!\",\n",
    "    \"certain games are boring to play\"\n",
    "]\n",
    "results = sentiment_analyzer(texts)\n",
    "for result in results:\n",
    "    print(result)\n",
    " "
   ]
  }
 ],
 "metadata": {
  "kernelspec": {
   "display_name": "Python 3",
   "language": "python",
   "name": "python3"
  },
  "language_info": {
   "codemirror_mode": {
    "name": "ipython",
    "version": 3
   },
   "file_extension": ".py",
   "mimetype": "text/x-python",
   "name": "python",
   "nbconvert_exporter": "python",
   "pygments_lexer": "ipython3",
   "version": "3.8.8"
  }
 },
 "nbformat": 4,
 "nbformat_minor": 5
}
