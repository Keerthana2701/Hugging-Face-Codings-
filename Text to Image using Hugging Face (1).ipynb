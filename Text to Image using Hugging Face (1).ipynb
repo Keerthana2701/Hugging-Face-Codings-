{
 "cells": [
  {
   "cell_type": "code",
   "execution_count": 1,
   "id": "94422830",
   "metadata": {},
   "outputs": [
    {
     "name": "stdout",
     "output_type": "stream",
     "text": [
      "Requirement already satisfied: transformers in c:\\users\\kpuni\\anaconda3\\lib\\site-packages (4.46.3)\n",
      "Requirement already satisfied: torch in c:\\users\\kpuni\\anaconda3\\lib\\site-packages (2.4.1)\n",
      "Requirement already satisfied: networkx in c:\\users\\kpuni\\anaconda3\\lib\\site-packages (from torch) (2.5)\n",
      "Requirement already satisfied: filelock in c:\\users\\kpuni\\anaconda3\\lib\\site-packages (from torch) (3.0.12)\n",
      "Requirement already satisfied: typing-extensions>=4.8.0 in c:\\users\\kpuni\\anaconda3\\lib\\site-packages (from torch) (4.10.0)\n",
      "Requirement already satisfied: sympy in c:\\users\\kpuni\\anaconda3\\lib\\site-packages (from torch) (1.8)\n",
      "Requirement already satisfied: jinja2 in c:\\users\\kpuni\\anaconda3\\lib\\site-packages (from torch) (2.11.3)\n",
      "Requirement already satisfied: fsspec in c:\\users\\kpuni\\anaconda3\\lib\\site-packages (from torch) (2025.3.0)\n",
      "Requirement already satisfied: tokenizers<0.21,>=0.20 in c:\\users\\kpuni\\anaconda3\\lib\\site-packages (from transformers) (0.20.3)\n",
      "Requirement already satisfied: numpy>=1.17 in c:\\users\\kpuni\\anaconda3\\lib\\site-packages (from transformers) (1.23.5)\n",
      "Requirement already satisfied: safetensors>=0.4.1 in c:\\users\\kpuni\\anaconda3\\lib\\site-packages (from transformers) (0.5.3)\n",
      "Requirement already satisfied: requests in c:\\users\\kpuni\\anaconda3\\lib\\site-packages (from transformers) (2.31.0)\n",
      "Requirement already satisfied: tqdm>=4.27 in c:\\users\\kpuni\\anaconda3\\lib\\site-packages (from transformers) (4.59.0)\n",
      "Requirement already satisfied: huggingface-hub<1.0,>=0.23.2 in c:\\users\\kpuni\\anaconda3\\lib\\site-packages (from transformers) (0.30.2)\n",
      "Requirement already satisfied: pyyaml>=5.1 in c:\\users\\kpuni\\anaconda3\\lib\\site-packages (from transformers) (5.4.1)\n",
      "Requirement already satisfied: regex!=2019.12.17 in c:\\users\\kpuni\\anaconda3\\lib\\site-packages (from transformers) (2023.12.25)\n",
      "Requirement already satisfied: packaging>=20.0 in c:\\users\\kpuni\\anaconda3\\lib\\site-packages (from transformers) (23.2)\n",
      "Requirement already satisfied: MarkupSafe>=0.23 in c:\\users\\kpuni\\anaconda3\\lib\\site-packages (from jinja2->torch) (1.1.1)\n",
      "Requirement already satisfied: decorator>=4.3.0 in c:\\users\\kpuni\\anaconda3\\lib\\site-packages (from networkx->torch) (5.0.6)\n",
      "Requirement already satisfied: certifi>=2017.4.17 in c:\\users\\kpuni\\anaconda3\\lib\\site-packages (from requests->transformers) (2020.12.5)\n",
      "Requirement already satisfied: urllib3<3,>=1.21.1 in c:\\users\\kpuni\\anaconda3\\lib\\site-packages (from requests->transformers) (1.26.4)\n",
      "Requirement already satisfied: charset-normalizer<4,>=2 in c:\\users\\kpuni\\anaconda3\\lib\\site-packages (from requests->transformers) (2.1.1)\n",
      "Requirement already satisfied: idna<4,>=2.5 in c:\\users\\kpuni\\anaconda3\\lib\\site-packages (from requests->transformers) (2.10)\n",
      "Requirement already satisfied: mpmath>=0.19 in c:\\users\\kpuni\\anaconda3\\lib\\site-packages (from sympy->torch) (1.2.1)\n"
     ]
    }
   ],
   "source": [
    "!pip install transformers torch\n"
   ]
  },
  {
   "cell_type": "code",
   "execution_count": 2,
   "id": "a7211a99",
   "metadata": {},
   "outputs": [
    {
     "name": "stdout",
     "output_type": "stream",
     "text": [
      "Requirement already satisfied: huggingface_hub in c:\\users\\kpuni\\anaconda3\\lib\\site-packages (0.30.2)\n",
      "Requirement already satisfied: typing-extensions>=3.7.4.3 in c:\\users\\kpuni\\anaconda3\\lib\\site-packages (from huggingface_hub) (4.10.0)\n",
      "Requirement already satisfied: filelock in c:\\users\\kpuni\\anaconda3\\lib\\site-packages (from huggingface_hub) (3.0.12)\n",
      "Requirement already satisfied: requests in c:\\users\\kpuni\\anaconda3\\lib\\site-packages (from huggingface_hub) (2.31.0)\n",
      "Requirement already satisfied: pyyaml>=5.1 in c:\\users\\kpuni\\anaconda3\\lib\\site-packages (from huggingface_hub) (5.4.1)\n",
      "Requirement already satisfied: tqdm>=4.42.1 in c:\\users\\kpuni\\anaconda3\\lib\\site-packages (from huggingface_hub) (4.59.0)\n",
      "Requirement already satisfied: packaging>=20.9 in c:\\users\\kpuni\\anaconda3\\lib\\site-packages (from huggingface_hub) (23.2)\n",
      "Requirement already satisfied: fsspec>=2023.5.0 in c:\\users\\kpuni\\anaconda3\\lib\\site-packages (from huggingface_hub) (2025.3.0)\n",
      "Requirement already satisfied: idna<4,>=2.5 in c:\\users\\kpuni\\anaconda3\\lib\\site-packages (from requests->huggingface_hub) (2.10)\n",
      "Requirement already satisfied: certifi>=2017.4.17 in c:\\users\\kpuni\\anaconda3\\lib\\site-packages (from requests->huggingface_hub) (2020.12.5)\n",
      "Requirement already satisfied: charset-normalizer<4,>=2 in c:\\users\\kpuni\\anaconda3\\lib\\site-packages (from requests->huggingface_hub) (2.1.1)\n",
      "Requirement already satisfied: urllib3<3,>=1.21.1 in c:\\users\\kpuni\\anaconda3\\lib\\site-packages (from requests->huggingface_hub) (1.26.4)\n",
      "Logged in as Keerthanastrength\n"
     ]
    }
   ],
   "source": [
    "!pip install huggingface_hub\n",
    "from huggingface_hub import HfFolder, whoami\n",
    "\n",
    "\n",
    "hf_token = 'hf_(add your hftoken here)'\n",
    "HfFolder.save_token(hf_token)\n",
    "\n",
    "\n",
    "user = whoami()\n",
    "print(f\"Logged in as {user['name']}\")\n",
    "\n"
   ]
  },
  {
   "cell_type": "code",
   "execution_count": 5,
   "id": "fa4d757a",
   "metadata": {},
   "outputs": [
    {
     "data": {
      "application/vnd.jupyter.widget-view+json": {
       "model_id": "e204b204d5e74945ab627af1b315ee3d",
       "version_major": 2,
       "version_minor": 0
      },
      "text/plain": [
       "Loading pipeline components...:   0%|          | 0/7 [00:00<?, ?it/s]"
      ]
     },
     "metadata": {},
     "output_type": "display_data"
    },
    {
     "data": {
      "application/vnd.jupyter.widget-view+json": {
       "model_id": "70e23e0c4a904b0cb3fd160e503269ac",
       "version_major": 2,
       "version_minor": 0
      },
      "text/plain": [
       "  0%|          | 0/50 [00:00<?, ?it/s]"
      ]
     },
     "metadata": {},
     "output_type": "display_data"
    }
   ],
   "source": [
    "#  Install the required libraries again (since kernel restarted)\n",
    "!pip install diffusers transformers accelerate safetensors --quiet\n",
    "\n",
    "# Load the Stable Diffusion pipeline\n",
    "from diffusers import StableDiffusionPipeline\n",
    "import torch\n",
    "\n",
    "# Use GPU if available, otherwise CPU\n",
    "device = \"cuda\" if torch.cuda.is_available() else \"cpu\"\n",
    "\n",
    "# Load the model from Hugging Face (no login required for this one)\n",
    "pipe = StableDiffusionPipeline.from_pretrained(\n",
    "    \"runwayml/stable-diffusion-v1-5\",\n",
    "    torch_dtype=torch.float16 if device == \"cuda\" else torch.float32,\n",
    ").to(device)\n",
    "\n",
    "# Your text prompt\n",
    "prompt = \"Hulk wearing south indian washti and praying\"\n",
    "\n",
    "# Generate image\n",
    "image = pipe(prompt).images[0]\n",
    "\n",
    "#  Save and show image\n",
    "image.save(\"generated_image.png\")\n",
    "image.show()"
   ]
  }
 ],
 "metadata": {
  "kernelspec": {
   "display_name": "Python 3",
   "language": "python",
   "name": "python3"
  },
  "language_info": {
   "codemirror_mode": {
    "name": "ipython",
    "version": 3
   },
   "file_extension": ".py",
   "mimetype": "text/x-python",
   "name": "python",
   "nbconvert_exporter": "python",
   "pygments_lexer": "ipython3",
   "version": "3.8.8"
  }
 },
 "nbformat": 4,
 "nbformat_minor": 5
}
